{
 "cells": [
  {
   "cell_type": "code",
   "execution_count": 16,
   "id": "faca7585",
   "metadata": {},
   "outputs": [
    {
     "data": {
      "text/plain": [
       "True"
      ]
     },
     "execution_count": 16,
     "metadata": {},
     "output_type": "execute_result"
    }
   ],
   "source": [
    "from dotenv import load_dotenv\n",
    "from langchain.agents import create_react_agent\n",
    "from langchain_community.chat_models import ChatOllama\n",
    "from mcp import ClientSession, StdioServerParameters\n",
    "from mcp.client.stdio import stdio_client\n",
    "from langchain_mcp_adapters.tools import load_mcp_tools\n",
    "from langgraph.prebuilt import create_react_agent\n",
    "from langchain_openai import AzureChatOpenAI\n",
    "import os\n",
    "load_dotenv()"
   ]
  },
  {
   "cell_type": "code",
   "execution_count": 25,
   "id": "10fa80fd",
   "metadata": {},
   "outputs": [
    {
     "name": "stdout",
     "output_type": "stream",
     "text": [
      "📋 Available MCP tools: ['web_search', 'news_search', 'smart_search', 'research_search']\n",
      "📊 Number of tools: 4\n",
      "🛠️ Tool: web_search - \n",
      "    Perform a web search using Brave Search API\n",
      "    \n",
      "    Args:\n",
      "        query: Search query string\n",
      "        count: Number of results to return (1-20)\n",
      "        offset: Number of results to skip for pagination\n",
      "        country: Country code for localized results (e.g., \"US\", \"GB\", \"CA\")\n",
      "        search_lang: Language for search results (e.g., \"en\", \"es\", \"fr\")\n",
      "        freshness: Time filter (\"pd\" for past day, \"pw\" for past week, \"pm\" for past month, \"py\" for past year)\n",
      "    \n",
      "    Returns:\n",
      "        List of search results with title, URL, description, and metadata\n",
      "    \n",
      "🛠️ Tool: news_search - \n",
      "    Search for recent news articles using Brave Search API\n",
      "    \n",
      "    Args:\n",
      "        query: Search query string\n",
      "        count: Number of results to return (1-20)\n",
      "        offset: Number of results to skip for pagination\n",
      "        country: Country code for localized results\n",
      "        search_lang: Language for search results\n",
      "        freshness: Time filter (\"pd\" for past day, \"pw\" for past week, \"pm\" for past month)\n",
      "    \n",
      "    Returns:\n",
      "        List of news articles with title, URL, description, source, and publication date\n",
      "    \n",
      "🛠️ Tool: smart_search - \n",
      "    Intelligent search that tries multiple strategies to find valid results\n",
      "    \n",
      "    Args:\n",
      "        query: Search query string\n",
      "        max_attempts: Maximum number of search attempts with different strategies\n",
      "        result_threshold: Minimum number of results considered \"successful\"\n",
      "    \n",
      "    Returns:\n",
      "        Dictionary containing the best search results and metadata about the search process\n",
      "    \n",
      "🛠️ Tool: research_search - \n",
      "    Comprehensive research search combining multiple result types and sources\n",
      "    \n",
      "    Args:\n",
      "        topic: Research topic or question\n",
      "        depth: Search depth (\"light\", \"medium\", \"deep\")\n",
      "        include_academic: Whether to include academic and scholarly sources\n",
      "        include_news: Whether to include recent news articles\n",
      "        time_range: Time range for results (\"recent\", \"year\", \"all\")\n",
      "    \n",
      "    Returns:\n",
      "        Comprehensive research results organized by source type\n",
      "    \n",
      "🔧 Loaded LangChain tools: ['web_search', 'news_search', 'smart_search', 'research_search']\n",
      "📊 Number of LangChain tools: 4\n",
      "\n",
      "==================================================\n",
      "AGENT RESPONSE:\n",
      "==================================================\n",
      "{'messages': [HumanMessage(content=\"Search for information about 'model context protocol' using web search\", additional_kwargs={}, response_metadata={}, id='d8513b9e-e214-4fca-9117-d76e1ef313aa'), AIMessage(content='', additional_kwargs={'tool_calls': [{'id': 'call_PZ9nQzTvFBZUSSv7Ui30u2p2', 'function': {'arguments': '{\"query\":\"model context protocol\",\"count\":10}', 'name': 'web_search'}, 'type': 'function'}], 'refusal': None}, response_metadata={'token_usage': {'completion_tokens': 21, 'prompt_tokens': 647, 'total_tokens': 668, 'completion_tokens_details': {'accepted_prediction_tokens': 0, 'audio_tokens': 0, 'reasoning_tokens': 0, 'rejected_prediction_tokens': 0}, 'prompt_tokens_details': {'audio_tokens': 0, 'cached_tokens': 0}}, 'model_name': 'gpt-4.1-mini-2025-04-14', 'system_fingerprint': 'fp_178c8d546f', 'id': 'chatcmpl-BgsfK5aPZDurTAed1uNzr5ahObQsu', 'service_tier': None, 'prompt_filter_results': [{'prompt_index': 0, 'content_filter_results': {'hate': {'filtered': False, 'severity': 'safe'}, 'jailbreak': {'filtered': False, 'detected': False}, 'self_harm': {'filtered': False, 'severity': 'safe'}, 'sexual': {'filtered': False, 'severity': 'safe'}, 'violence': {'filtered': False, 'severity': 'safe'}}}], 'finish_reason': 'tool_calls', 'logprobs': None, 'content_filter_results': {}}, id='run--73861b7c-9ef1-4576-b738-bfac544e6c23-0', tool_calls=[{'name': 'web_search', 'args': {'query': 'model context protocol', 'count': 10}, 'id': 'call_PZ9nQzTvFBZUSSv7Ui30u2p2', 'type': 'tool_call'}], usage_metadata={'input_tokens': 647, 'output_tokens': 21, 'total_tokens': 668, 'input_token_details': {'audio': 0, 'cache_read': 0}, 'output_token_details': {'audio': 0, 'reasoning': 0}}), ToolMessage(content='[\"{\\\\n  \\\\\"type\\\\\": \\\\\"web\\\\\",\\\\n  \\\\\"title\\\\\": \\\\\"Introduction - Model Context Protocol\\\\\",\\\\n  \\\\\"url\\\\\": \\\\\"https://modelcontextprotocol.io/introduction\\\\\",\\\\n  \\\\\"description\\\\\": \\\\\"MCP is an open <strong>protocol</strong> that standardizes how applications provide <strong>context</strong> to LLMs. Think of MCP like a USB-C port for AI applications. Just as USB-C provides a standardized way to connect your devices to various peripherals and accessories, MCP provides a standardized way to connect AI <strong>models</strong> to ...\\\\\",\\\\n  \\\\\"snippet\\\\\": \\\\\"\\\\\",\\\\n  \\\\\"age\\\\\": \\\\\"\\\\\",\\\\n  \\\\\"language\\\\\": \\\\\"en\\\\\"\\\\n}\", \"{\\\\n  \\\\\"type\\\\\": \\\\\"web\\\\\",\\\\n  \\\\\"title\\\\\": \\\\\"Introducing the Model Context Protocol \\\\\\\\\\\\\\\\ Anthropic\\\\\",\\\\n  \\\\\"url\\\\\": \\\\\"https://www.anthropic.com/news/model-context-protocol\\\\\",\\\\n  \\\\\"description\\\\\": \\\\\"The <strong>Model</strong> <strong>Context</strong> <strong>Protocol</strong> (MCP) is an open standard for connecting AI assistants to the systems where data lives, including content repositories, business tools, and development environments. Its aim is to help frontier <strong>models</strong> produce better, more relevant responses.\\\\\",\\\\n  \\\\\"snippet\\\\\": \\\\\"\\\\\",\\\\n  \\\\\"age\\\\\": \\\\\"\\\\\",\\\\n  \\\\\"language\\\\\": \\\\\"en\\\\\"\\\\n}\", \"{\\\\n  \\\\\"type\\\\\": \\\\\"web\\\\\",\\\\n  \\\\\"title\\\\\": \\\\\"Model Context Protocol · GitHub\\\\\",\\\\n  \\\\\"url\\\\\": \\\\\"https://github.com/modelcontextprotocol\\\\\",\\\\n  \\\\\"description\\\\\": \\\\\"An open <strong>protocol</strong> that enables seamless integration between LLM applications and external data sources and tools. - <strong>Model</strong> <strong>Context</strong> <strong>Protocol</strong>\\\\\",\\\\n  \\\\\"snippet\\\\\": \\\\\"\\\\\",\\\\n  \\\\\"age\\\\\": \\\\\"3 weeks ago\\\\\",\\\\n  \\\\\"language\\\\\": \\\\\"en\\\\\"\\\\n}\", \"{\\\\n  \\\\\"type\\\\\": \\\\\"web\\\\\",\\\\n  \\\\\"title\\\\\": \\\\\"Model Context Protocol - Wikipedia\\\\\",\\\\n  \\\\\"url\\\\\": \\\\\"https://en.wikipedia.org/wiki/Model_Context_Protocol\\\\\",\\\\n  \\\\\"description\\\\\": \\\\\"The <strong>Model</strong> <strong>Context</strong> <strong>Protocol</strong> (MCP) is an open standard, open-source framework introduced by Anthropic in November 2024 to standardize the way artificial intelligence (AI) <strong>models</strong> like large language <strong>models</strong> (LLMs) integrate and share data with external tools, systems, and data sources.\\\\\",\\\\n  \\\\\"snippet\\\\\": \\\\\"\\\\\",\\\\n  \\\\\"age\\\\\": \\\\\"2 days ago\\\\\",\\\\n  \\\\\"language\\\\\": \\\\\"en\\\\\"\\\\n}\", \"{\\\\n  \\\\\"type\\\\\": \\\\\"web\\\\\",\\\\n  \\\\\"title\\\\\": \\\\\"The Model Context Protocol (MCP) — A Complete Tutorial | by Dr. Nimrita Koul | Medium\\\\\",\\\\n  \\\\\"url\\\\\": \\\\\"https://medium.com/@nimritakoul01/the-model-context-protocol-mcp-a-complete-tutorial-a3abe8a7f4ef\\\\\",\\\\n  \\\\\"description\\\\\": \\\\\"Anthropic released the <strong>Model</strong> <strong>Context</strong> <strong>Protocol</strong>(MCP) in Nov. 2024.\\\\\",\\\\n  \\\\\"snippet\\\\\": \\\\\"\\\\\",\\\\n  \\\\\"age\\\\\": \\\\\"March 27, 2025\\\\\",\\\\n  \\\\\"language\\\\\": \\\\\"en\\\\\"\\\\n}\", \"{\\\\n  \\\\\"type\\\\\": \\\\\"web\\\\\",\\\\n  \\\\\"title\\\\\": \\\\\"50+ Model Context Protocol (MCP) Servers Worth Exploring - MarkTechPost\\\\\",\\\\n  \\\\\"url\\\\\": \\\\\"https://www.marktechpost.com/2025/06/08/50-model-context-protocol-mcp-servers-worth-exploring/\\\\\",\\\\n  \\\\\"description\\\\\": \\\\\"Explore the 50+ <strong>Model</strong> <strong>Context</strong> <strong>Protocol</strong> (MCP) servers that facilitate seamless AI tool integration using standardized interfaces.\\\\\",\\\\n  \\\\\"snippet\\\\\": \\\\\"\\\\\",\\\\n  \\\\\"age\\\\\": \\\\\"2 days ago\\\\\",\\\\n  \\\\\"language\\\\\": \\\\\"en\\\\\"\\\\n}\", \"{\\\\n  \\\\\"type\\\\\": \\\\\"web\\\\\",\\\\n  \\\\\"title\\\\\": \\\\\"Model Context Protocol\\\\\",\\\\n  \\\\\"url\\\\\": \\\\\"https://www.advisorlabs.com/services/model-context-protocol\\\\\",\\\\n  \\\\\"description\\\\\": \\\\\"<strong>Model</strong> <strong>Context</strong> <strong>Protocol</strong> (MCP) gives your systems shared memory, <strong>context</strong>, and goals—so your tools can finally speak the same language and work better together.\\\\\",\\\\n  \\\\\"snippet\\\\\": \\\\\"\\\\\",\\\\n  \\\\\"age\\\\\": \\\\\"\\\\\",\\\\n  \\\\\"language\\\\\": \\\\\"en\\\\\"\\\\n}\", \"{\\\\n  \\\\\"type\\\\\": \\\\\"web\\\\\",\\\\n  \\\\\"title\\\\\": \\\\\"What is MCP (Model Context Protocol) and Why Does It Matter? | Lindy\\\\\",\\\\n  \\\\\"url\\\\\": \\\\\"https://www.lindy.ai/blog/what-is-mcp\\\\\",\\\\n  \\\\\"description\\\\\": \\\\\"What is MCP? Learn how the <strong>Model</strong> <strong>Context</strong> <strong>Protocol</strong> works, what problem it solves, and why it matters for the future of AI and automation.\\\\\",\\\\n  \\\\\"snippet\\\\\": \\\\\"\\\\\",\\\\n  \\\\\"age\\\\\": \\\\\"1 week ago\\\\\",\\\\n  \\\\\"language\\\\\": \\\\\"en\\\\\"\\\\n}\", \"{\\\\n  \\\\\"type\\\\\": \\\\\"web\\\\\",\\\\n  \\\\\"title\\\\\": \\\\\"Unlocking the power of Model Context Protocol (MCP) on AWS | AWS Machine Learning Blog\\\\\",\\\\n  \\\\\"url\\\\\": \\\\\"https://aws.amazon.com/blogs/machine-learning/unlocking-the-power-of-model-context-protocol-mcp-on-aws/\\\\\",\\\\n  \\\\\"description\\\\\": \\\\\"We’ve witnessed remarkable advances in <strong>model</strong> capabilities as generative AI companies have invested in developing their offerings. Language <strong>models</strong> such as Anthropic’s Claude Opus 4 &amp; Sonnet 4 and Amazon Nova on Amazon Bedrock can reason, write, and generate responses with increasing ...\\\\\",\\\\n  \\\\\"snippet\\\\\": \\\\\"\\\\\",\\\\n  \\\\\"age\\\\\": \\\\\"1 week ago\\\\\",\\\\n  \\\\\"language\\\\\": \\\\\"en\\\\\"\\\\n}\", \"{\\\\n  \\\\\"type\\\\\": \\\\\"web\\\\\",\\\\n  \\\\\"title\\\\\": \\\\\"Model Context Protocol: A Quick Guide | Ultralytics\\\\\",\\\\n  \\\\\"url\\\\\": \\\\\"https://www.ultralytics.com/blog/the-next-step-in-ai-automation-model-context-protocol-mcp\\\\\",\\\\n  \\\\\"description\\\\\": \\\\\"Discover the basics of <strong>Model</strong> <strong>Context</strong> <strong>Protocol</strong> MCP, how it works in AI systems, and why developers are using it to link <strong>models</strong> with real-time tools and data.\\\\\",\\\\n  \\\\\"snippet\\\\\": \\\\\"\\\\\",\\\\n  \\\\\"age\\\\\": \\\\\"1 month ago\\\\\",\\\\n  \\\\\"language\\\\\": \\\\\"en\\\\\"\\\\n}\"]', name='web_search', id='551c42aa-f880-40d0-ad6f-d4ac066ead47', tool_call_id='call_PZ9nQzTvFBZUSSv7Ui30u2p2'), AIMessage(content='The Model Context Protocol (MCP) is an open standard and open-source framework introduced by Anthropic in November 2024. It standardizes how artificial intelligence (AI) models, particularly large language models (LLMs), integrate and share data with external tools, systems, and data sources. MCP acts like a standardized connection, similar to a USB-C port, enabling AI applications to provide context to LLMs and connect AI models to various external data repositories, business tools, and development environments. The goal of MCP is to help AI models produce better, more relevant responses by seamlessly integrating with the systems where data lives.\\n\\nKey points about MCP:\\n- It is an open protocol for connecting AI assistants to external systems.\\n- It facilitates seamless integration between LLM applications and external data sources and tools.\\n- MCP provides shared memory, context, and goals for systems to work better together.\\n- It is gaining adoption with multiple MCP servers available for AI tool integration.\\n- MCP is seen as important for the future of AI and automation.\\n\\nFor more detailed information, you can visit:\\n- https://modelcontextprotocol.io/introduction\\n- https://www.anthropic.com/news/model-context-protocol\\n- https://en.wikipedia.org/wiki/Model_Context_Protocol\\n- https://github.com/modelcontextprotocol', additional_kwargs={'refusal': None}, response_metadata={'token_usage': {'completion_tokens': 262, 'prompt_tokens': 2127, 'total_tokens': 2389, 'completion_tokens_details': {'accepted_prediction_tokens': 0, 'audio_tokens': 0, 'reasoning_tokens': 0, 'rejected_prediction_tokens': 0}, 'prompt_tokens_details': {'audio_tokens': 0, 'cached_tokens': 0}}, 'model_name': 'gpt-4.1-mini-2025-04-14', 'system_fingerprint': 'fp_178c8d546f', 'id': 'chatcmpl-BgsfMTjOYrVg9PHzHZUBpzO16EPRf', 'service_tier': None, 'prompt_filter_results': [{'prompt_index': 0, 'content_filter_results': {'hate': {'filtered': False, 'severity': 'safe'}, 'jailbreak': {'filtered': False, 'detected': False}, 'self_harm': {'filtered': False, 'severity': 'safe'}, 'sexual': {'filtered': False, 'severity': 'safe'}, 'violence': {'filtered': False, 'severity': 'safe'}}}], 'finish_reason': 'stop', 'logprobs': None, 'content_filter_results': {'hate': {'filtered': False, 'severity': 'safe'}, 'protected_material_code': {'filtered': False, 'detected': False}, 'protected_material_text': {'filtered': False, 'detected': False}, 'self_harm': {'filtered': False, 'severity': 'safe'}, 'sexual': {'filtered': False, 'severity': 'safe'}, 'violence': {'filtered': False, 'severity': 'safe'}}}, id='run--966a0115-fa90-49da-9fa0-fdaebf4cff7d-0', usage_metadata={'input_tokens': 2127, 'output_tokens': 262, 'total_tokens': 2389, 'input_token_details': {'audio': 0, 'cache_read': 0}, 'output_token_details': {'audio': 0, 'reasoning': 0}})]}\n"
     ]
    }
   ],
   "source": [
    "\n",
    "\n",
    "llm = AzureChatOpenAI(\n",
    "    deployment_name=\"gpt-4\",\n",
    "    model_name=\"gpt-4\", \n",
    "    azure_endpoint=os.getenv('AZURE_OPENAI_ENDPOINT'),\n",
    "    api_version=os.getenv('OPENAI_API_VERSION'),\n",
    "    openai_api_key=os.getenv('AZURE_OPENAI_API_KEY'),\n",
    "    temperature=0\n",
    ")\n",
    "\n",
    "server_params = StdioServerParameters(\n",
    "    command=\"python\",\n",
    "    args=[\"server.py\"],\n",
    ")\n",
    "\n",
    "async with stdio_client(server_params) as (read, write):\n",
    "    async with ClientSession(read, write) as session:\n",
    "        await session.initialize()\n",
    "        \n",
    "        # 🔍 DEBUG: Check what tools are available from MCP server\n",
    "        tools_response = await session.list_tools()  # This returns a response object\n",
    "        available_tools = tools_response.tools         # Access the .tools property\n",
    "        \n",
    "        print(f\"📋 Available MCP tools: {[tool.name for tool in available_tools]}\")\n",
    "        print(f\"📊 Number of tools: {len(available_tools)}\")\n",
    "        \n",
    "        # Check tool details\n",
    "        for tool in available_tools:\n",
    "            print(f\"🛠️ Tool: {tool.name} - {tool.description}\")\n",
    "        \n",
    "        # Load tools for LangChain\n",
    "        tools = await load_mcp_tools(session)\n",
    "        print(f\"🔧 Loaded LangChain tools: {[tool.name for tool in tools]}\")\n",
    "        print(f\"📊 Number of LangChain tools: {len(tools)}\")\n",
    "        \n",
    "        agent = create_react_agent(model=llm, tools=tools)\n",
    "        \n",
    "        # Try a more explicit search query\n",
    "        agent_response = await agent.ainvoke({\n",
    "            \"messages\": [{\"role\": \"user\", \"content\": \"Search for information about 'model context protocol' using web search\"}]\n",
    "        })\n",
    "        \n",
    "        print(\"\\n\" + \"=\"*50)\n",
    "        print(\"AGENT RESPONSE:\")\n",
    "        print(\"=\"*50)\n",
    "        print(agent_response)"
   ]
  },
  {
   "cell_type": "code",
   "execution_count": null,
   "id": "f30dcfa9",
   "metadata": {},
   "outputs": [],
   "source": []
  }
 ],
 "metadata": {
  "kernelspec": {
   "display_name": "open_deep_research",
   "language": "python",
   "name": "python3"
  },
  "language_info": {
   "codemirror_mode": {
    "name": "ipython",
    "version": 3
   },
   "file_extension": ".py",
   "mimetype": "text/x-python",
   "name": "python",
   "nbconvert_exporter": "python",
   "pygments_lexer": "ipython3",
   "version": "3.12.9"
  }
 },
 "nbformat": 4,
 "nbformat_minor": 5
}
